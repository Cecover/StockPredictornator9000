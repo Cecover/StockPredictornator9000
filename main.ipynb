{
 "cells": [
  {
   "cell_type": "code",
   "outputs": [],
   "source": [
    "\"\"\"\n",
    "'Get rich quick' scheme, a 5-day prediction of FTSE/TWSE TW50 Index stock prices.\n",
    "\n",
    "Caveats:\n",
    "\n",
    "1. We used historical data from the beginning of 2020 (2020/01/02) to the 15th of March 2024\n",
    "2. We will be predicting the price index\n",
    "3. We write everything in Python\n",
    "4. We compare several models and will only submit one result which we think is the best\n",
    "\n",
    "Hard requirements:\n",
    "\n",
    "1. The dataset, which is a FTSE/TWSE TW-50 index stock from 2020-01-02 to 2024-03-15\n",
    "\"\"\""
   ],
   "metadata": {
    "collapsed": false
   },
   "id": "72eb0333b3681620",
   "execution_count": null
  },
  {
   "cell_type": "code",
   "outputs": [],
   "source": [
    "# ===== Imports =====\n",
    "\n",
    "import pandas as pd\n",
    "import matplotlib.pyplot as plt"
   ],
   "metadata": {
    "collapsed": false,
    "ExecuteTime": {
     "end_time": "2024-03-17T07:00:00.984619Z",
     "start_time": "2024-03-17T07:00:00.651181Z"
    }
   },
   "id": "2261133186b257d3",
   "execution_count": 12
  },
  {
   "cell_type": "code",
   "outputs": [],
   "source": [
    "# ===== Data loading and plotting =====\n",
    "\n",
    "dataset = pd.read_csv('dataset/FTSE TWSE Taiwan 50 Index.csv')\n",
    "\n",
    "# Since we will be predicting the price index, we will be making a dataframe with the values we'd like to predict\n",
    "# I am lazy, so we just drop the unused columns instead\n",
    "df = dataset.drop(columns=['Total Return Index', 'Change', '%Change'])\n",
    "df['Date'] = pd.to_datetime(df['Date'])\n",
    "\n",
    "# Now, we just need to plot the dataset\n",
    "fig = plt.subplots(figsize=(16, 5))\n",
    "plt.plot(df['Date'], df['Price Index'])\n",
    "plt.title('TW-50 Price Index', fontsize=20)\n",
    "plt.xlabel('Date', fontsize=15)\n",
    "plt.ylabel('Price', fontsize=15)\n",
    "plt.xticks(rotation=30, fontsize=15)\n",
    "plt.xlim(pd.Timestamp('2020-01-02'), pd.Timestamp('2024-03-15'))"
   ],
   "metadata": {
    "collapsed": false
   },
   "id": "1fbfb4ba6b6faffb",
   "execution_count": null
  }
 ],
 "metadata": {
  "kernelspec": {
   "display_name": "Python 3",
   "language": "python",
   "name": "python3"
  },
  "language_info": {
   "codemirror_mode": {
    "name": "ipython",
    "version": 2
   },
   "file_extension": ".py",
   "mimetype": "text/x-python",
   "name": "python",
   "nbconvert_exporter": "python",
   "pygments_lexer": "ipython2",
   "version": "2.7.6"
  }
 },
 "nbformat": 4,
 "nbformat_minor": 5
}
